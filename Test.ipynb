{
 "cells": [
  {
   "cell_type": "code",
   "execution_count": 1,
   "metadata": {},
   "outputs": [
    {
     "data": {
      "text/html": [
       "\n",
       "            <div>\n",
       "                <p><b>SparkSession - hive</b></p>\n",
       "                \n",
       "        <div>\n",
       "            <p><b>SparkContext</b></p>\n",
       "\n",
       "            <p><a href=\"http://192.168.0.6:4040\">Spark UI</a></p>\n",
       "\n",
       "            <dl>\n",
       "              <dt>Version</dt>\n",
       "                <dd><code>v3.0.1</code></dd>\n",
       "              <dt>Master</dt>\n",
       "                <dd><code>local[*]</code></dd>\n",
       "              <dt>AppName</dt>\n",
       "                <dd><code>PySparkShell</code></dd>\n",
       "            </dl>\n",
       "        </div>\n",
       "        \n",
       "            </div>\n",
       "        "
      ],
      "text/plain": [
       "<pyspark.sql.session.SparkSession at 0x7f2b82dcdeb8>"
      ]
     },
     "execution_count": 1,
     "metadata": {},
     "output_type": "execute_result"
    }
   ],
   "source": [
    "spark"
   ]
  },
  {
   "cell_type": "markdown",
   "metadata": {},
   "source": [
    "## Countries"
   ]
  },
  {
   "cell_type": "code",
   "execution_count": 19,
   "metadata": {},
   "outputs": [
    {
     "name": "stdout",
     "output_type": "stream",
     "text": [
      "root\n",
      " |-- COUNTRY_ABBR: string (nullable = true)\n",
      " |-- COUNTRY_FULL: string (nullable = true)\n",
      "\n"
     ]
    }
   ],
   "source": [
    "countries_df = spark.read.option('header', True).option('inferSchema', True).csv('countrylist.csv')\n",
    "countries_df.printSchema()"
   ]
  },
  {
   "cell_type": "code",
   "execution_count": 20,
   "metadata": {},
   "outputs": [
    {
     "data": {
      "text/html": [
       "<div>\n",
       "<style scoped>\n",
       "    .dataframe tbody tr th:only-of-type {\n",
       "        vertical-align: middle;\n",
       "    }\n",
       "\n",
       "    .dataframe tbody tr th {\n",
       "        vertical-align: top;\n",
       "    }\n",
       "\n",
       "    .dataframe thead th {\n",
       "        text-align: right;\n",
       "    }\n",
       "</style>\n",
       "<table border=\"1\" class=\"dataframe\">\n",
       "  <thead>\n",
       "    <tr style=\"text-align: right;\">\n",
       "      <th></th>\n",
       "      <th>COUNTRY_ABBR</th>\n",
       "      <th>COUNTRY_FULL</th>\n",
       "    </tr>\n",
       "  </thead>\n",
       "  <tbody>\n",
       "    <tr>\n",
       "      <th>0</th>\n",
       "      <td>AA</td>\n",
       "      <td>ARUBA</td>\n",
       "    </tr>\n",
       "    <tr>\n",
       "      <th>1</th>\n",
       "      <td>AC</td>\n",
       "      <td>ANTIGUA AND BARBUDA</td>\n",
       "    </tr>\n",
       "    <tr>\n",
       "      <th>2</th>\n",
       "      <td>AF</td>\n",
       "      <td>AFGHANISTAN</td>\n",
       "    </tr>\n",
       "    <tr>\n",
       "      <th>3</th>\n",
       "      <td>AG</td>\n",
       "      <td>ALGERIA</td>\n",
       "    </tr>\n",
       "    <tr>\n",
       "      <th>4</th>\n",
       "      <td>AI</td>\n",
       "      <td>ASCENSION ISLAND</td>\n",
       "    </tr>\n",
       "  </tbody>\n",
       "</table>\n",
       "</div>"
      ],
      "text/plain": [
       "  COUNTRY_ABBR         COUNTRY_FULL\n",
       "0           AA                ARUBA\n",
       "1           AC  ANTIGUA AND BARBUDA\n",
       "2           AF          AFGHANISTAN\n",
       "3           AG              ALGERIA\n",
       "4           AI     ASCENSION ISLAND"
      ]
     },
     "execution_count": 20,
     "metadata": {},
     "output_type": "execute_result"
    }
   ],
   "source": [
    "countries_df.limit(5).toPandas()"
   ]
  },
  {
   "cell_type": "code",
   "execution_count": 82,
   "metadata": {},
   "outputs": [
    {
     "data": {
      "text/plain": [
       "288"
      ]
     },
     "execution_count": 82,
     "metadata": {},
     "output_type": "execute_result"
    }
   ],
   "source": [
    "countries_df.count()"
   ]
  },
  {
   "cell_type": "markdown",
   "metadata": {},
   "source": [
    "## Station list"
   ]
  },
  {
   "cell_type": "code",
   "execution_count": 22,
   "metadata": {},
   "outputs": [
    {
     "name": "stdout",
     "output_type": "stream",
     "text": [
      "root\n",
      " |-- STN_NO: string (nullable = true)\n",
      " |-- COUNTRY_ABBR: string (nullable = true)\n",
      "\n"
     ]
    }
   ],
   "source": [
    "stations_df = spark.read.option('header', True).option('inferSchema', True).csv('stationlist.csv')\n",
    "stations_df.printSchema()"
   ]
  },
  {
   "cell_type": "code",
   "execution_count": 23,
   "metadata": {},
   "outputs": [
    {
     "data": {
      "text/html": [
       "<div>\n",
       "<style scoped>\n",
       "    .dataframe tbody tr th:only-of-type {\n",
       "        vertical-align: middle;\n",
       "    }\n",
       "\n",
       "    .dataframe tbody tr th {\n",
       "        vertical-align: top;\n",
       "    }\n",
       "\n",
       "    .dataframe thead th {\n",
       "        text-align: right;\n",
       "    }\n",
       "</style>\n",
       "<table border=\"1\" class=\"dataframe\">\n",
       "  <thead>\n",
       "    <tr style=\"text-align: right;\">\n",
       "      <th></th>\n",
       "      <th>STN_NO</th>\n",
       "      <th>COUNTRY_ABBR</th>\n",
       "    </tr>\n",
       "  </thead>\n",
       "  <tbody>\n",
       "    <tr>\n",
       "      <th>0</th>\n",
       "      <td>012240</td>\n",
       "      <td>NO</td>\n",
       "    </tr>\n",
       "    <tr>\n",
       "      <th>1</th>\n",
       "      <td>020690</td>\n",
       "      <td>SW</td>\n",
       "    </tr>\n",
       "    <tr>\n",
       "      <th>2</th>\n",
       "      <td>020870</td>\n",
       "      <td>SW</td>\n",
       "    </tr>\n",
       "    <tr>\n",
       "      <th>3</th>\n",
       "      <td>021190</td>\n",
       "      <td>SW</td>\n",
       "    </tr>\n",
       "    <tr>\n",
       "      <th>4</th>\n",
       "      <td>032690</td>\n",
       "      <td>UK</td>\n",
       "    </tr>\n",
       "  </tbody>\n",
       "</table>\n",
       "</div>"
      ],
      "text/plain": [
       "   STN_NO COUNTRY_ABBR\n",
       "0  012240           NO\n",
       "1  020690           SW\n",
       "2  020870           SW\n",
       "3  021190           SW\n",
       "4  032690           UK"
      ]
     },
     "execution_count": 23,
     "metadata": {},
     "output_type": "execute_result"
    }
   ],
   "source": [
    "stations_df.limit(5).toPandas()"
   ]
  },
  {
   "cell_type": "code",
   "execution_count": 81,
   "metadata": {},
   "outputs": [
    {
     "data": {
      "text/plain": [
       "25306"
      ]
     },
     "execution_count": 81,
     "metadata": {},
     "output_type": "execute_result"
    }
   ],
   "source": [
    "stations_df.count()"
   ]
  },
  {
   "cell_type": "markdown",
   "metadata": {},
   "source": [
    "## Weather data"
   ]
  },
  {
   "cell_type": "code",
   "execution_count": 33,
   "metadata": {},
   "outputs": [
    {
     "name": "stdout",
     "output_type": "stream",
     "text": [
      "root\n",
      " |-- STN---: integer (nullable = true)\n",
      " |-- WBAN: integer (nullable = true)\n",
      " |-- YEARMODA: integer (nullable = true)\n",
      " |-- TEMP: double (nullable = true)\n",
      " |-- DEWP: double (nullable = true)\n",
      " |-- SLP: double (nullable = true)\n",
      " |-- STP: double (nullable = true)\n",
      " |-- VISIB: double (nullable = true)\n",
      " |-- WDSP: double (nullable = true)\n",
      " |-- MXSPD: double (nullable = true)\n",
      " |-- GUST: double (nullable = true)\n",
      " |-- MAX: string (nullable = true)\n",
      " |-- MIN: string (nullable = true)\n",
      " |-- PRCP: string (nullable = true)\n",
      " |-- SNDP: double (nullable = true)\n",
      " |-- FRSHTT: integer (nullable = true)\n",
      "\n"
     ]
    }
   ],
   "source": [
    "data_path = 'data/2019'\n",
    "weather_df = spark.read.option('header', True).option('inferSchema', True).csv(data_path)\n",
    "weather_df.printSchema()"
   ]
  },
  {
   "cell_type": "code",
   "execution_count": 34,
   "metadata": {},
   "outputs": [
    {
     "data": {
      "text/html": [
       "<div>\n",
       "<style scoped>\n",
       "    .dataframe tbody tr th:only-of-type {\n",
       "        vertical-align: middle;\n",
       "    }\n",
       "\n",
       "    .dataframe tbody tr th {\n",
       "        vertical-align: top;\n",
       "    }\n",
       "\n",
       "    .dataframe thead th {\n",
       "        text-align: right;\n",
       "    }\n",
       "</style>\n",
       "<table border=\"1\" class=\"dataframe\">\n",
       "  <thead>\n",
       "    <tr style=\"text-align: right;\">\n",
       "      <th></th>\n",
       "      <th>STN---</th>\n",
       "      <th>WBAN</th>\n",
       "      <th>YEARMODA</th>\n",
       "      <th>TEMP</th>\n",
       "      <th>DEWP</th>\n",
       "      <th>SLP</th>\n",
       "      <th>STP</th>\n",
       "      <th>VISIB</th>\n",
       "      <th>WDSP</th>\n",
       "      <th>MXSPD</th>\n",
       "      <th>GUST</th>\n",
       "      <th>MAX</th>\n",
       "      <th>MIN</th>\n",
       "      <th>PRCP</th>\n",
       "      <th>SNDP</th>\n",
       "      <th>FRSHTT</th>\n",
       "    </tr>\n",
       "  </thead>\n",
       "  <tbody>\n",
       "    <tr>\n",
       "      <th>0</th>\n",
       "      <td>10260</td>\n",
       "      <td>99999</td>\n",
       "      <td>20190101</td>\n",
       "      <td>26.1</td>\n",
       "      <td>21.2</td>\n",
       "      <td>1001.9</td>\n",
       "      <td>987.5</td>\n",
       "      <td>20.6</td>\n",
       "      <td>9.0</td>\n",
       "      <td>15.9</td>\n",
       "      <td>29.7</td>\n",
       "      <td>29.8</td>\n",
       "      <td>21.7*</td>\n",
       "      <td>0.02G</td>\n",
       "      <td>18.5</td>\n",
       "      <td>1000</td>\n",
       "    </tr>\n",
       "    <tr>\n",
       "      <th>1</th>\n",
       "      <td>10260</td>\n",
       "      <td>99999</td>\n",
       "      <td>20190102</td>\n",
       "      <td>24.9</td>\n",
       "      <td>22.1</td>\n",
       "      <td>1020.1</td>\n",
       "      <td>1005.5</td>\n",
       "      <td>5.4</td>\n",
       "      <td>5.6</td>\n",
       "      <td>13.6</td>\n",
       "      <td>22.1</td>\n",
       "      <td>27.1*</td>\n",
       "      <td>20.7</td>\n",
       "      <td>0.48G</td>\n",
       "      <td>22.8</td>\n",
       "      <td>1000</td>\n",
       "    </tr>\n",
       "    <tr>\n",
       "      <th>2</th>\n",
       "      <td>10260</td>\n",
       "      <td>99999</td>\n",
       "      <td>20190103</td>\n",
       "      <td>31.7</td>\n",
       "      <td>29.1</td>\n",
       "      <td>1008.9</td>\n",
       "      <td>994.7</td>\n",
       "      <td>13.6</td>\n",
       "      <td>11.6</td>\n",
       "      <td>21.4</td>\n",
       "      <td>49.5</td>\n",
       "      <td>37.4*</td>\n",
       "      <td>26.8*</td>\n",
       "      <td>0.25G</td>\n",
       "      <td>999.9</td>\n",
       "      <td>11000</td>\n",
       "    </tr>\n",
       "    <tr>\n",
       "      <th>3</th>\n",
       "      <td>10260</td>\n",
       "      <td>99999</td>\n",
       "      <td>20190104</td>\n",
       "      <td>32.9</td>\n",
       "      <td>30.3</td>\n",
       "      <td>1011.4</td>\n",
       "      <td>997.1</td>\n",
       "      <td>15.8</td>\n",
       "      <td>4.9</td>\n",
       "      <td>7.8</td>\n",
       "      <td>10.9</td>\n",
       "      <td>36.1</td>\n",
       "      <td>31.8</td>\n",
       "      <td>0.52G</td>\n",
       "      <td>999.9</td>\n",
       "      <td>1000</td>\n",
       "    </tr>\n",
       "    <tr>\n",
       "      <th>4</th>\n",
       "      <td>10260</td>\n",
       "      <td>99999</td>\n",
       "      <td>20190105</td>\n",
       "      <td>35.5</td>\n",
       "      <td>33.0</td>\n",
       "      <td>1015.7</td>\n",
       "      <td>1001.4</td>\n",
       "      <td>12.0</td>\n",
       "      <td>10.4</td>\n",
       "      <td>13.6</td>\n",
       "      <td>21.0</td>\n",
       "      <td>38.5*</td>\n",
       "      <td>32.7</td>\n",
       "      <td>0.02G</td>\n",
       "      <td>23.6</td>\n",
       "      <td>10000</td>\n",
       "    </tr>\n",
       "  </tbody>\n",
       "</table>\n",
       "</div>"
      ],
      "text/plain": [
       "   STN---   WBAN  YEARMODA  TEMP  DEWP     SLP     STP  VISIB  WDSP  MXSPD  \\\n",
       "0   10260  99999  20190101  26.1  21.2  1001.9   987.5   20.6   9.0   15.9   \n",
       "1   10260  99999  20190102  24.9  22.1  1020.1  1005.5    5.4   5.6   13.6   \n",
       "2   10260  99999  20190103  31.7  29.1  1008.9   994.7   13.6  11.6   21.4   \n",
       "3   10260  99999  20190104  32.9  30.3  1011.4   997.1   15.8   4.9    7.8   \n",
       "4   10260  99999  20190105  35.5  33.0  1015.7  1001.4   12.0  10.4   13.6   \n",
       "\n",
       "   GUST    MAX    MIN   PRCP   SNDP  FRSHTT  \n",
       "0  29.7   29.8  21.7*  0.02G   18.5    1000  \n",
       "1  22.1  27.1*   20.7  0.48G   22.8    1000  \n",
       "2  49.5  37.4*  26.8*  0.25G  999.9   11000  \n",
       "3  10.9   36.1   31.8  0.52G  999.9    1000  \n",
       "4  21.0  38.5*   32.7  0.02G   23.6   10000  "
      ]
     },
     "execution_count": 34,
     "metadata": {},
     "output_type": "execute_result"
    }
   ],
   "source": [
    "weather_df.limit(5).toPandas()"
   ]
  },
  {
   "cell_type": "markdown",
   "metadata": {},
   "source": [
    "## Dataset cleanup"
   ]
  },
  {
   "cell_type": "code",
   "execution_count": 109,
   "metadata": {},
   "outputs": [
    {
     "data": {
      "text/html": [
       "<div>\n",
       "<style scoped>\n",
       "    .dataframe tbody tr th:only-of-type {\n",
       "        vertical-align: middle;\n",
       "    }\n",
       "\n",
       "    .dataframe tbody tr th {\n",
       "        vertical-align: top;\n",
       "    }\n",
       "\n",
       "    .dataframe thead th {\n",
       "        text-align: right;\n",
       "    }\n",
       "</style>\n",
       "<table border=\"1\" class=\"dataframe\">\n",
       "  <thead>\n",
       "    <tr style=\"text-align: right;\">\n",
       "      <th></th>\n",
       "      <th>STN_NO</th>\n",
       "      <th>WBAN</th>\n",
       "      <th>YEARMODA</th>\n",
       "      <th>FRSHTT</th>\n",
       "      <th>TEMP_AVG</th>\n",
       "      <th>DEWP_MEAN</th>\n",
       "      <th>SLP_MEAN</th>\n",
       "      <th>STP_MEAN</th>\n",
       "      <th>VISIB_MEAN</th>\n",
       "      <th>WDSP_MEAN</th>\n",
       "      <th>MXSPD_MAX</th>\n",
       "      <th>GUST_MAX</th>\n",
       "      <th>MAX_TEMP</th>\n",
       "      <th>MIN_TEMP</th>\n",
       "      <th>PRCP_TOTAL</th>\n",
       "      <th>SNDP_DEPTH</th>\n",
       "    </tr>\n",
       "  </thead>\n",
       "  <tbody>\n",
       "    <tr>\n",
       "      <th>0</th>\n",
       "      <td>10260</td>\n",
       "      <td>99999</td>\n",
       "      <td>20190101</td>\n",
       "      <td>1000</td>\n",
       "      <td>26.1</td>\n",
       "      <td>21.2</td>\n",
       "      <td>1001.9</td>\n",
       "      <td>987.5</td>\n",
       "      <td>20.6</td>\n",
       "      <td>9.0</td>\n",
       "      <td>15.9</td>\n",
       "      <td>29.7</td>\n",
       "      <td>29.8</td>\n",
       "      <td>21.7*</td>\n",
       "      <td>0.02G</td>\n",
       "      <td>18.5</td>\n",
       "    </tr>\n",
       "    <tr>\n",
       "      <th>1</th>\n",
       "      <td>10260</td>\n",
       "      <td>99999</td>\n",
       "      <td>20190102</td>\n",
       "      <td>1000</td>\n",
       "      <td>24.9</td>\n",
       "      <td>22.1</td>\n",
       "      <td>1020.1</td>\n",
       "      <td>1005.5</td>\n",
       "      <td>5.4</td>\n",
       "      <td>5.6</td>\n",
       "      <td>13.6</td>\n",
       "      <td>22.1</td>\n",
       "      <td>27.1*</td>\n",
       "      <td>20.7</td>\n",
       "      <td>0.48G</td>\n",
       "      <td>22.8</td>\n",
       "    </tr>\n",
       "    <tr>\n",
       "      <th>2</th>\n",
       "      <td>10260</td>\n",
       "      <td>99999</td>\n",
       "      <td>20190103</td>\n",
       "      <td>11000</td>\n",
       "      <td>31.7</td>\n",
       "      <td>29.1</td>\n",
       "      <td>1008.9</td>\n",
       "      <td>994.7</td>\n",
       "      <td>13.6</td>\n",
       "      <td>11.6</td>\n",
       "      <td>21.4</td>\n",
       "      <td>49.5</td>\n",
       "      <td>37.4*</td>\n",
       "      <td>26.8*</td>\n",
       "      <td>0.25G</td>\n",
       "      <td>999.9</td>\n",
       "    </tr>\n",
       "    <tr>\n",
       "      <th>3</th>\n",
       "      <td>10260</td>\n",
       "      <td>99999</td>\n",
       "      <td>20190104</td>\n",
       "      <td>1000</td>\n",
       "      <td>32.9</td>\n",
       "      <td>30.3</td>\n",
       "      <td>1011.4</td>\n",
       "      <td>997.1</td>\n",
       "      <td>15.8</td>\n",
       "      <td>4.9</td>\n",
       "      <td>7.8</td>\n",
       "      <td>10.9</td>\n",
       "      <td>36.1</td>\n",
       "      <td>31.8</td>\n",
       "      <td>0.52G</td>\n",
       "      <td>999.9</td>\n",
       "    </tr>\n",
       "    <tr>\n",
       "      <th>4</th>\n",
       "      <td>10260</td>\n",
       "      <td>99999</td>\n",
       "      <td>20190105</td>\n",
       "      <td>10000</td>\n",
       "      <td>35.5</td>\n",
       "      <td>33.0</td>\n",
       "      <td>1015.7</td>\n",
       "      <td>1001.4</td>\n",
       "      <td>12.0</td>\n",
       "      <td>10.4</td>\n",
       "      <td>13.6</td>\n",
       "      <td>21.0</td>\n",
       "      <td>38.5*</td>\n",
       "      <td>32.7</td>\n",
       "      <td>0.02G</td>\n",
       "      <td>23.6</td>\n",
       "    </tr>\n",
       "  </tbody>\n",
       "</table>\n",
       "</div>"
      ],
      "text/plain": [
       "   STN_NO   WBAN  YEARMODA  FRSHTT  TEMP_AVG  DEWP_MEAN  SLP_MEAN  STP_MEAN  \\\n",
       "0   10260  99999  20190101    1000      26.1       21.2    1001.9     987.5   \n",
       "1   10260  99999  20190102    1000      24.9       22.1    1020.1    1005.5   \n",
       "2   10260  99999  20190103   11000      31.7       29.1    1008.9     994.7   \n",
       "3   10260  99999  20190104    1000      32.9       30.3    1011.4     997.1   \n",
       "4   10260  99999  20190105   10000      35.5       33.0    1015.7    1001.4   \n",
       "\n",
       "   VISIB_MEAN  WDSP_MEAN  MXSPD_MAX  GUST_MAX MAX_TEMP MIN_TEMP PRCP_TOTAL  \\\n",
       "0        20.6        9.0       15.9      29.7     29.8    21.7*      0.02G   \n",
       "1         5.4        5.6       13.6      22.1    27.1*     20.7      0.48G   \n",
       "2        13.6       11.6       21.4      49.5    37.4*    26.8*      0.25G   \n",
       "3        15.8        4.9        7.8      10.9     36.1     31.8      0.52G   \n",
       "4        12.0       10.4       13.6      21.0    38.5*     32.7      0.02G   \n",
       "\n",
       "   SNDP_DEPTH  \n",
       "0        18.5  \n",
       "1        22.8  \n",
       "2       999.9  \n",
       "3       999.9  \n",
       "4        23.6  "
      ]
     },
     "execution_count": 109,
     "metadata": {},
     "output_type": "execute_result"
    }
   ],
   "source": [
    "from pyspark.sql.functions import when, col, lit \n",
    "\n",
    "# weather_cleaned_df = weather_df \\\n",
    "# .filter( \\\n",
    "#     (weather_df['TEMP'] == 9999.9)\n",
    "# )\n",
    "weather_cleaned_df = weather_df \\\n",
    ".select(weather_df['STN---'].alias('STN_NO'), 'WBAN', 'YEARMODA', 'FRSHTT', \\\n",
    "    'TEMP', when(weather_df['TEMP'].isNull(), lit(9999.9)).otherwise(weather_df['TEMP']).alias('TEMP_AVG'), \\\n",
    "'DEWP', when(weather_df['DEWP'].isNull(), lit(9999.9)).otherwise(weather_df['DEWP']).alias('DEWP_MEAN'), \\\n",
    "'SLP', when(weather_df['SLP'].isNull(), lit(9999.9)).otherwise(weather_df['SLP']).alias('SLP_MEAN'), \\\n",
    "'STP', when(weather_df['STP'].isNull(), lit(9999.9)).otherwise(weather_df['STP']).alias('STP_MEAN'), \\\n",
    "'VISIB', when(weather_df['VISIB'].isNull(), lit(999.9)).otherwise(weather_df['VISIB']).alias('VISIB_MEAN'), \\\n",
    "'WDSP', when(weather_df['WDSP'].isNull(), lit(999.9)).otherwise(weather_df['WDSP']).alias('WDSP_MEAN'), \\\n",
    "'MXSPD', when(weather_df['MXSPD'].isNull(), lit(999.9)).otherwise(weather_df['MXSPD']).alias('MXSPD_MAX'), \\\n",
    "'GUST', when(weather_df['GUST'].isNull(), lit(999.9)).otherwise(weather_df['GUST']).alias('GUST_MAX'), \\\n",
    "'MAX', when(weather_df['MAX'].isNull(), lit(9999.9)).otherwise(weather_df['MAX']).alias('MAX_TEMP'), \\\n",
    "'MIN', when(weather_df['MIN'].isNull(), lit(9999.9)).otherwise(weather_df['MIN']).alias('MIN_TEMP'), \\\n",
    "'PRCP', when(weather_df['PRCP'].isNull(), lit(99.9)).otherwise(weather_df['PRCP']).alias('PRCP_TOTAL'), \\\n",
    "'SNDP', when(weather_df['SNDP'].isNull(), lit(999.9)).otherwise(weather_df['SNDP']).alias('SNDP_DEPTH')) \\\n",
    ".drop('STN---') \\\n",
    ".drop('TEMP') \\\n",
    ".drop('DEWP') \\\n",
    ".drop('SLP') \\\n",
    ".drop('STP') \\\n",
    ".drop('VISIB') \\\n",
    ".drop('WDSP') \\\n",
    ".drop('MXSPD') \\\n",
    ".drop('GUST') \\\n",
    ".drop('MAX') \\\n",
    ".drop('MIN') \\\n",
    ".drop('PRCP') \\\n",
    ".drop('SNDP')\n",
    "\n",
    "weather_cleaned_df.limit(5).toPandas()"
   ]
  },
  {
   "cell_type": "markdown",
   "metadata": {},
   "source": [
    "## Country names by station"
   ]
  },
  {
   "cell_type": "code",
   "execution_count": 97,
   "metadata": {},
   "outputs": [
    {
     "data": {
      "text/html": [
       "<div>\n",
       "<style scoped>\n",
       "    .dataframe tbody tr th:only-of-type {\n",
       "        vertical-align: middle;\n",
       "    }\n",
       "\n",
       "    .dataframe tbody tr th {\n",
       "        vertical-align: top;\n",
       "    }\n",
       "\n",
       "    .dataframe thead th {\n",
       "        text-align: right;\n",
       "    }\n",
       "</style>\n",
       "<table border=\"1\" class=\"dataframe\">\n",
       "  <thead>\n",
       "    <tr style=\"text-align: right;\">\n",
       "      <th></th>\n",
       "      <th>COUNTRY_ABBR</th>\n",
       "      <th>STN_NO</th>\n",
       "      <th>COUNTRY_FULL</th>\n",
       "    </tr>\n",
       "  </thead>\n",
       "  <tbody>\n",
       "    <tr>\n",
       "      <th>0</th>\n",
       "      <td>NO</td>\n",
       "      <td>012240</td>\n",
       "      <td>NORWAY</td>\n",
       "    </tr>\n",
       "  </tbody>\n",
       "</table>\n",
       "</div>"
      ],
      "text/plain": [
       "  COUNTRY_ABBR  STN_NO COUNTRY_FULL\n",
       "0           NO  012240       NORWAY"
      ]
     },
     "execution_count": 97,
     "metadata": {},
     "output_type": "execute_result"
    }
   ],
   "source": [
    "country_names_by_station_df = stations_df.join(countries_df, 'COUNTRY_ABBR', 'left')\n",
    "country_names_by_station_df.limit(1).toPandas()"
   ]
  },
  {
   "cell_type": "code",
   "execution_count": 98,
   "metadata": {},
   "outputs": [
    {
     "data": {
      "text/plain": [
       "25306"
      ]
     },
     "execution_count": 98,
     "metadata": {},
     "output_type": "execute_result"
    }
   ],
   "source": [
    "country_names_by_station_df.count()"
   ]
  },
  {
   "cell_type": "markdown",
   "metadata": {},
   "source": [
    "## weather data by station"
   ]
  },
  {
   "cell_type": "code",
   "execution_count": 99,
   "metadata": {},
   "outputs": [
    {
     "data": {
      "text/html": [
       "<div>\n",
       "<style scoped>\n",
       "    .dataframe tbody tr th:only-of-type {\n",
       "        vertical-align: middle;\n",
       "    }\n",
       "\n",
       "    .dataframe tbody tr th {\n",
       "        vertical-align: top;\n",
       "    }\n",
       "\n",
       "    .dataframe thead th {\n",
       "        text-align: right;\n",
       "    }\n",
       "</style>\n",
       "<table border=\"1\" class=\"dataframe\">\n",
       "  <thead>\n",
       "    <tr style=\"text-align: right;\">\n",
       "      <th></th>\n",
       "      <th>STN_NO</th>\n",
       "      <th>WBAN</th>\n",
       "      <th>YEARMODA</th>\n",
       "      <th>FRSHTT</th>\n",
       "      <th>TEMP_AVG</th>\n",
       "      <th>DEWP_MEAN</th>\n",
       "      <th>SLP_MEAN</th>\n",
       "      <th>STP_MEAN</th>\n",
       "      <th>VISIB_MEAN</th>\n",
       "      <th>WDSP_MEAN</th>\n",
       "      <th>MXSPD_MAX</th>\n",
       "      <th>GUST_MAX</th>\n",
       "      <th>MAX_TEMP</th>\n",
       "      <th>MIN_TEMP</th>\n",
       "      <th>PRCP_TOTAL</th>\n",
       "      <th>SNDP_DEPTH</th>\n",
       "      <th>COUNTRY_ABBR</th>\n",
       "      <th>COUNTRY_FULL</th>\n",
       "    </tr>\n",
       "  </thead>\n",
       "  <tbody>\n",
       "    <tr>\n",
       "      <th>0</th>\n",
       "      <td>013840</td>\n",
       "      <td>99999</td>\n",
       "      <td>20190101</td>\n",
       "      <td>0</td>\n",
       "      <td>38.6</td>\n",
       "      <td>24.8</td>\n",
       "      <td>9999.9</td>\n",
       "      <td>9999.9</td>\n",
       "      <td>999.9</td>\n",
       "      <td>11.7</td>\n",
       "      <td>33.6</td>\n",
       "      <td>44.1</td>\n",
       "      <td>42.8*</td>\n",
       "      <td>33.1*</td>\n",
       "      <td>0.00G</td>\n",
       "      <td>999.9</td>\n",
       "      <td>NO</td>\n",
       "      <td>NORWAY</td>\n",
       "    </tr>\n",
       "    <tr>\n",
       "      <th>1</th>\n",
       "      <td>013840</td>\n",
       "      <td>99999</td>\n",
       "      <td>20190102</td>\n",
       "      <td>0</td>\n",
       "      <td>30.5</td>\n",
       "      <td>16.6</td>\n",
       "      <td>9999.9</td>\n",
       "      <td>9999.9</td>\n",
       "      <td>999.9</td>\n",
       "      <td>8.0</td>\n",
       "      <td>23.7</td>\n",
       "      <td>35.0</td>\n",
       "      <td>33.8*</td>\n",
       "      <td>27.5*</td>\n",
       "      <td>0.02G</td>\n",
       "      <td>999.9</td>\n",
       "      <td>NO</td>\n",
       "      <td>NORWAY</td>\n",
       "    </tr>\n",
       "    <tr>\n",
       "      <th>2</th>\n",
       "      <td>013840</td>\n",
       "      <td>99999</td>\n",
       "      <td>20190103</td>\n",
       "      <td>0</td>\n",
       "      <td>32.2</td>\n",
       "      <td>21.7</td>\n",
       "      <td>9999.9</td>\n",
       "      <td>9999.9</td>\n",
       "      <td>999.9</td>\n",
       "      <td>3.5</td>\n",
       "      <td>13.0</td>\n",
       "      <td>999.9</td>\n",
       "      <td>37.4*</td>\n",
       "      <td>26.6*</td>\n",
       "      <td>0.00G</td>\n",
       "      <td>999.9</td>\n",
       "      <td>NO</td>\n",
       "      <td>NORWAY</td>\n",
       "    </tr>\n",
       "    <tr>\n",
       "      <th>3</th>\n",
       "      <td>013840</td>\n",
       "      <td>99999</td>\n",
       "      <td>20190104</td>\n",
       "      <td>0</td>\n",
       "      <td>34.2</td>\n",
       "      <td>27.2</td>\n",
       "      <td>9999.9</td>\n",
       "      <td>9999.9</td>\n",
       "      <td>999.9</td>\n",
       "      <td>2.6</td>\n",
       "      <td>6.0</td>\n",
       "      <td>999.9</td>\n",
       "      <td>41.0*</td>\n",
       "      <td>26.6*</td>\n",
       "      <td>0.00G</td>\n",
       "      <td>999.9</td>\n",
       "      <td>NO</td>\n",
       "      <td>NORWAY</td>\n",
       "    </tr>\n",
       "    <tr>\n",
       "      <th>4</th>\n",
       "      <td>013840</td>\n",
       "      <td>99999</td>\n",
       "      <td>20190105</td>\n",
       "      <td>100000</td>\n",
       "      <td>30.6</td>\n",
       "      <td>27.4</td>\n",
       "      <td>9999.9</td>\n",
       "      <td>9999.9</td>\n",
       "      <td>15.5</td>\n",
       "      <td>2.0</td>\n",
       "      <td>6.4</td>\n",
       "      <td>999.9</td>\n",
       "      <td>36.9*</td>\n",
       "      <td>21.2*</td>\n",
       "      <td>0.00G</td>\n",
       "      <td>999.9</td>\n",
       "      <td>NO</td>\n",
       "      <td>NORWAY</td>\n",
       "    </tr>\n",
       "  </tbody>\n",
       "</table>\n",
       "</div>"
      ],
      "text/plain": [
       "   STN_NO   WBAN  YEARMODA  FRSHTT  TEMP_AVG  DEWP_MEAN  SLP_MEAN  STP_MEAN  \\\n",
       "0  013840  99999  20190101       0      38.6       24.8    9999.9    9999.9   \n",
       "1  013840  99999  20190102       0      30.5       16.6    9999.9    9999.9   \n",
       "2  013840  99999  20190103       0      32.2       21.7    9999.9    9999.9   \n",
       "3  013840  99999  20190104       0      34.2       27.2    9999.9    9999.9   \n",
       "4  013840  99999  20190105  100000      30.6       27.4    9999.9    9999.9   \n",
       "\n",
       "   VISIB_MEAN  WDSP_MEAN  MXSPD_MAX  GUST_MAX MAX_TEMP MIN_TEMP PRCP_TOTAL  \\\n",
       "0       999.9       11.7       33.6      44.1    42.8*    33.1*      0.00G   \n",
       "1       999.9        8.0       23.7      35.0    33.8*    27.5*      0.02G   \n",
       "2       999.9        3.5       13.0     999.9    37.4*    26.6*      0.00G   \n",
       "3       999.9        2.6        6.0     999.9    41.0*    26.6*      0.00G   \n",
       "4        15.5        2.0        6.4     999.9    36.9*    21.2*      0.00G   \n",
       "\n",
       "   SNDP_DEPTH COUNTRY_ABBR COUNTRY_FULL  \n",
       "0       999.9           NO       NORWAY  \n",
       "1       999.9           NO       NORWAY  \n",
       "2       999.9           NO       NORWAY  \n",
       "3       999.9           NO       NORWAY  \n",
       "4       999.9           NO       NORWAY  "
      ]
     },
     "execution_count": 99,
     "metadata": {},
     "output_type": "execute_result"
    }
   ],
   "source": [
    "from pyspark.sql.functions import broadcast\n",
    "\n",
    "weather_data_by_station = weather_cleaned_df.join(broadcast(country_names_by_station_df), 'STN_NO', 'right')\n",
    "weather_data_by_station.limit(5).toPandas()"
   ]
  },
  {
   "cell_type": "markdown",
   "metadata": {},
   "source": [
    "## Which country had the hottest average mean temperature over the year?"
   ]
  },
  {
   "cell_type": "code",
   "execution_count": 103,
   "metadata": {},
   "outputs": [
    {
     "data": {
      "text/html": [
       "<div>\n",
       "<style scoped>\n",
       "    .dataframe tbody tr th:only-of-type {\n",
       "        vertical-align: middle;\n",
       "    }\n",
       "\n",
       "    .dataframe tbody tr th {\n",
       "        vertical-align: top;\n",
       "    }\n",
       "\n",
       "    .dataframe thead th {\n",
       "        text-align: right;\n",
       "    }\n",
       "</style>\n",
       "<table border=\"1\" class=\"dataframe\">\n",
       "  <thead>\n",
       "    <tr style=\"text-align: right;\">\n",
       "      <th></th>\n",
       "      <th>COUNTRY_FULL</th>\n",
       "      <th>MAX_AVG_TEMP_BY_COUNTRY</th>\n",
       "    </tr>\n",
       "  </thead>\n",
       "  <tbody>\n",
       "    <tr>\n",
       "      <th>0</th>\n",
       "      <td>KUWAIT</td>\n",
       "      <td>110.0</td>\n",
       "    </tr>\n",
       "  </tbody>\n",
       "</table>\n",
       "</div>"
      ],
      "text/plain": [
       "  COUNTRY_FULL  MAX_AVG_TEMP_BY_COUNTRY\n",
       "0       KUWAIT                    110.0"
      ]
     },
     "execution_count": 103,
     "metadata": {},
     "output_type": "execute_result"
    }
   ],
   "source": [
    "from pyspark.sql.functions import max, col\n",
    "weather_data_by_station.select('COUNTRY_FULL', 'TEMP_AVG') \\\n",
    ".groupBy('COUNTRY_FULL').agg(max(weather_data_by_station['TEMP_AVG']).alias('MAX_AVG_TEMP_BY_COUNTRY')) \\\n",
    ".sort(col('MAX_AVG_TEMP_BY_COUNTRY').desc()) \\\n",
    ".limit(1).toPandas()\n"
   ]
  },
  {
   "cell_type": "markdown",
   "metadata": {},
   "source": [
    "## Which country had the most consecutive days of tornadoes/funnel cloud formations?"
   ]
  },
  {
   "cell_type": "code",
   "execution_count": 111,
   "metadata": {},
   "outputs": [
    {
     "data": {
      "text/html": [
       "<div>\n",
       "<style scoped>\n",
       "    .dataframe tbody tr th:only-of-type {\n",
       "        vertical-align: middle;\n",
       "    }\n",
       "\n",
       "    .dataframe tbody tr th {\n",
       "        vertical-align: top;\n",
       "    }\n",
       "\n",
       "    .dataframe thead th {\n",
       "        text-align: right;\n",
       "    }\n",
       "</style>\n",
       "<table border=\"1\" class=\"dataframe\">\n",
       "  <thead>\n",
       "    <tr style=\"text-align: right;\">\n",
       "      <th></th>\n",
       "      <th>COUNTRY_FULL</th>\n",
       "      <th>FRSHTT</th>\n",
       "    </tr>\n",
       "  </thead>\n",
       "  <tbody>\n",
       "    <tr>\n",
       "      <th>0</th>\n",
       "      <td>NORWAY</td>\n",
       "      <td>0</td>\n",
       "    </tr>\n",
       "  </tbody>\n",
       "</table>\n",
       "</div>"
      ],
      "text/plain": [
       "  COUNTRY_FULL  FRSHTT\n",
       "0       NORWAY       0"
      ]
     },
     "execution_count": 111,
     "metadata": {},
     "output_type": "execute_result"
    }
   ],
   "source": [
    "weather_data_by_station.select('COUNTRY_FULL', 'FRSHTT') \\\n",
    ".limit(1).toPandas()\n",
    "\n"
   ]
  },
  {
   "cell_type": "code",
   "execution_count": 112,
   "metadata": {},
   "outputs": [
    {
     "data": {
      "text/plain": [
       "'00100'"
      ]
     },
     "execution_count": 112,
     "metadata": {},
     "output_type": "execute_result"
    }
   ],
   "source": [
    "a = 100\n",
    "str(a).zfill(5)"
   ]
  },
  {
   "cell_type": "code",
   "execution_count": 113,
   "metadata": {},
   "outputs": [
    {
     "ename": "SyntaxError",
     "evalue": "invalid syntax (<ipython-input-113-1a593b6386a5>, line 2)",
     "output_type": "error",
     "traceback": [
      "\u001b[0;36m  File \u001b[0;32m\"<ipython-input-113-1a593b6386a5>\"\u001b[0;36m, line \u001b[0;32m2\u001b[0m\n\u001b[0;31m    str(a).zfill(5)[]\u001b[0m\n\u001b[0m                    ^\u001b[0m\n\u001b[0;31mSyntaxError\u001b[0m\u001b[0;31m:\u001b[0m invalid syntax\n"
     ]
    }
   ],
   "source": [
    "# We can use an UDF here and a Window function to calculate the result\n",
    "def is_tornado_or_funnel_cloud(val):\n",
    "    str(a).zfill(5)[5]\n"
   ]
  },
  {
   "cell_type": "markdown",
   "metadata": {},
   "source": [
    "##  Which country had the second highest average mean wind speed over the year?"
   ]
  },
  {
   "cell_type": "code",
   "execution_count": 122,
   "metadata": {},
   "outputs": [
    {
     "data": {
      "text/html": [
       "<div>\n",
       "<style scoped>\n",
       "    .dataframe tbody tr th:only-of-type {\n",
       "        vertical-align: middle;\n",
       "    }\n",
       "\n",
       "    .dataframe tbody tr th {\n",
       "        vertical-align: top;\n",
       "    }\n",
       "\n",
       "    .dataframe thead th {\n",
       "        text-align: right;\n",
       "    }\n",
       "</style>\n",
       "<table border=\"1\" class=\"dataframe\">\n",
       "  <thead>\n",
       "    <tr style=\"text-align: right;\">\n",
       "      <th></th>\n",
       "      <th>COUNTRY_FULL</th>\n",
       "      <th>MAX_WDSP_MEAN</th>\n",
       "    </tr>\n",
       "  </thead>\n",
       "  <tbody>\n",
       "    <tr>\n",
       "      <th>0</th>\n",
       "      <td>SOUTH AFRICA</td>\n",
       "      <td>999.9</td>\n",
       "    </tr>\n",
       "    <tr>\n",
       "      <th>1</th>\n",
       "      <td>ARMENIA</td>\n",
       "      <td>999.9</td>\n",
       "    </tr>\n",
       "  </tbody>\n",
       "</table>\n",
       "</div>"
      ],
      "text/plain": [
       "   COUNTRY_FULL  MAX_WDSP_MEAN\n",
       "0  SOUTH AFRICA          999.9\n",
       "1       ARMENIA          999.9"
      ]
     },
     "execution_count": 122,
     "metadata": {},
     "output_type": "execute_result"
    }
   ],
   "source": [
    "weather_data_by_station.select('COUNTRY_FULL', 'WDSP_MEAN') \\\n",
    ".groupBy('COUNTRY_FULL').agg(max(weather_data_by_station['WDSP_MEAN']).alias('MAX_WDSP_MEAN')) \\\n",
    ".limit(2).sort(col('MAX_WDSP_MEAN').desc()).toPandas()"
   ]
  },
  {
   "cell_type": "code",
   "execution_count": null,
   "metadata": {},
   "outputs": [],
   "source": []
  }
 ],
 "metadata": {
  "kernelspec": {
   "display_name": "Python 3",
   "language": "python",
   "name": "python3"
  },
  "language_info": {
   "codemirror_mode": {
    "name": "ipython",
    "version": 3
   },
   "file_extension": ".py",
   "mimetype": "text/x-python",
   "name": "python",
   "nbconvert_exporter": "python",
   "pygments_lexer": "ipython3",
   "version": "3.8.3"
  }
 },
 "nbformat": 4,
 "nbformat_minor": 2
}
